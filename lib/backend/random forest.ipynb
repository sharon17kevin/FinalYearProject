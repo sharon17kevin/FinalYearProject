{
 "cells": [
  {
   "cell_type": "code",
   "execution_count": 68,
   "metadata": {},
   "outputs": [
    {
     "data": {
      "text/html": [
       "<div>\n",
       "<style scoped>\n",
       "    .dataframe tbody tr th:only-of-type {\n",
       "        vertical-align: middle;\n",
       "    }\n",
       "\n",
       "    .dataframe tbody tr th {\n",
       "        vertical-align: top;\n",
       "    }\n",
       "\n",
       "    .dataframe thead th {\n",
       "        text-align: right;\n",
       "    }\n",
       "</style>\n",
       "<table border=\"1\" class=\"dataframe\">\n",
       "  <thead>\n",
       "    <tr style=\"text-align: right;\">\n",
       "      <th></th>\n",
       "      <th>N</th>\n",
       "      <th>P</th>\n",
       "      <th>K</th>\n",
       "      <th>temperature</th>\n",
       "      <th>humidity</th>\n",
       "      <th>ph</th>\n",
       "      <th>rainfall</th>\n",
       "      <th>label</th>\n",
       "    </tr>\n",
       "  </thead>\n",
       "  <tbody>\n",
       "    <tr>\n",
       "      <th>0</th>\n",
       "      <td>90</td>\n",
       "      <td>42</td>\n",
       "      <td>43</td>\n",
       "      <td>20.879744</td>\n",
       "      <td>82.002744</td>\n",
       "      <td>6.502985</td>\n",
       "      <td>202.935536</td>\n",
       "      <td>rice</td>\n",
       "    </tr>\n",
       "    <tr>\n",
       "      <th>1</th>\n",
       "      <td>85</td>\n",
       "      <td>58</td>\n",
       "      <td>41</td>\n",
       "      <td>21.770462</td>\n",
       "      <td>80.319644</td>\n",
       "      <td>7.038096</td>\n",
       "      <td>226.655537</td>\n",
       "      <td>rice</td>\n",
       "    </tr>\n",
       "    <tr>\n",
       "      <th>2</th>\n",
       "      <td>60</td>\n",
       "      <td>55</td>\n",
       "      <td>44</td>\n",
       "      <td>23.004459</td>\n",
       "      <td>82.320763</td>\n",
       "      <td>7.840207</td>\n",
       "      <td>263.964248</td>\n",
       "      <td>rice</td>\n",
       "    </tr>\n",
       "    <tr>\n",
       "      <th>3</th>\n",
       "      <td>74</td>\n",
       "      <td>35</td>\n",
       "      <td>40</td>\n",
       "      <td>26.491096</td>\n",
       "      <td>80.158363</td>\n",
       "      <td>6.980401</td>\n",
       "      <td>242.864034</td>\n",
       "      <td>rice</td>\n",
       "    </tr>\n",
       "    <tr>\n",
       "      <th>4</th>\n",
       "      <td>78</td>\n",
       "      <td>42</td>\n",
       "      <td>42</td>\n",
       "      <td>20.130175</td>\n",
       "      <td>81.604873</td>\n",
       "      <td>7.628473</td>\n",
       "      <td>262.717340</td>\n",
       "      <td>rice</td>\n",
       "    </tr>\n",
       "  </tbody>\n",
       "</table>\n",
       "</div>"
      ],
      "text/plain": [
       "    N   P   K  temperature   humidity        ph    rainfall label\n",
       "0  90  42  43    20.879744  82.002744  6.502985  202.935536  rice\n",
       "1  85  58  41    21.770462  80.319644  7.038096  226.655537  rice\n",
       "2  60  55  44    23.004459  82.320763  7.840207  263.964248  rice\n",
       "3  74  35  40    26.491096  80.158363  6.980401  242.864034  rice\n",
       "4  78  42  42    20.130175  81.604873  7.628473  262.717340  rice"
      ]
     },
     "execution_count": 68,
     "metadata": {},
     "output_type": "execute_result"
    }
   ],
   "source": [
    "import numpy as np\n",
    "import pandas as pd\n",
    "import seaborn as sns\n",
    "%matplotlib inline\n",
    "import matplotlib.pyplot as plt\n",
    "\n",
    "from sklearn.preprocessing import LabelEncoder\n",
    "from sklearn.metrics import classification_report\n",
    "from ydata_profiling import ProfileReport\n",
    "from sklearn.model_selection import train_test_split\n",
    "from sklearn.ensemble import RandomForestClassifier, GradientBoostingClassifier, RandomForestRegressor,     GradientBoostingRegressor, ExtraTreesRegressor\n",
    "from sklearn.neural_network import MLPClassifier\n",
    "from sklearn.metrics import accuracy_score, r2_score, classification_report\n",
    "from sklearn.pipeline import Pipeline\n",
    "from sklearn.impute import SimpleImputer\n",
    "from sklearn.preprocessing import OneHotEncoder\n",
    "\n",
    "crop_filepath = \"./data/new1.csv\"\n",
    "data = pd.read_csv(crop_filepath)\n",
    "\n",
    "data.head()"
   ]
  },
  {
   "cell_type": "code",
   "execution_count": 69,
   "metadata": {},
   "outputs": [],
   "source": [
    "encoder = LabelEncoder()\n",
    "data.label = encoder.fit_transform(data.label)"
   ]
  },
  {
   "cell_type": "code",
   "execution_count": 70,
   "metadata": {},
   "outputs": [],
   "source": [
    "features = data.drop(\"label\", axis=1)\n",
    "target = data.label"
   ]
  },
  {
   "cell_type": "code",
   "execution_count": 71,
   "metadata": {},
   "outputs": [],
   "source": [
    "X_train, X_test, y_train, y_test = train_test_split(features, target, random_state=42)"
   ]
  },
  {
   "cell_type": "code",
   "execution_count": 72,
   "metadata": {},
   "outputs": [
    {
     "data": {
      "text/html": [
       "<div>\n",
       "<style scoped>\n",
       "    .dataframe tbody tr th:only-of-type {\n",
       "        vertical-align: middle;\n",
       "    }\n",
       "\n",
       "    .dataframe tbody tr th {\n",
       "        vertical-align: top;\n",
       "    }\n",
       "\n",
       "    .dataframe thead th {\n",
       "        text-align: right;\n",
       "    }\n",
       "</style>\n",
       "<table border=\"1\" class=\"dataframe\">\n",
       "  <thead>\n",
       "    <tr style=\"text-align: right;\">\n",
       "      <th></th>\n",
       "      <th>N</th>\n",
       "      <th>P</th>\n",
       "      <th>K</th>\n",
       "      <th>temperature</th>\n",
       "      <th>humidity</th>\n",
       "      <th>ph</th>\n",
       "      <th>rainfall</th>\n",
       "    </tr>\n",
       "  </thead>\n",
       "  <tbody>\n",
       "    <tr>\n",
       "      <th>3206</th>\n",
       "      <td>34</td>\n",
       "      <td>33</td>\n",
       "      <td>53</td>\n",
       "      <td>27.528578</td>\n",
       "      <td>72.186749</td>\n",
       "      <td>6.414002</td>\n",
       "      <td>81.094966</td>\n",
       "    </tr>\n",
       "    <tr>\n",
       "      <th>2998</th>\n",
       "      <td>104</td>\n",
       "      <td>59</td>\n",
       "      <td>165</td>\n",
       "      <td>21.183971</td>\n",
       "      <td>73.530064</td>\n",
       "      <td>6.207726</td>\n",
       "      <td>50.388060</td>\n",
       "    </tr>\n",
       "    <tr>\n",
       "      <th>2642</th>\n",
       "      <td>87</td>\n",
       "      <td>106</td>\n",
       "      <td>80</td>\n",
       "      <td>32.578839</td>\n",
       "      <td>70.982596</td>\n",
       "      <td>5.226143</td>\n",
       "      <td>70.743399</td>\n",
       "    </tr>\n",
       "    <tr>\n",
       "      <th>139</th>\n",
       "      <td>76</td>\n",
       "      <td>57</td>\n",
       "      <td>18</td>\n",
       "      <td>18.980273</td>\n",
       "      <td>74.526008</td>\n",
       "      <td>6.092726</td>\n",
       "      <td>94.262494</td>\n",
       "    </tr>\n",
       "    <tr>\n",
       "      <th>2649</th>\n",
       "      <td>108</td>\n",
       "      <td>119</td>\n",
       "      <td>73</td>\n",
       "      <td>33.870362</td>\n",
       "      <td>82.413168</td>\n",
       "      <td>5.413098</td>\n",
       "      <td>64.561815</td>\n",
       "    </tr>\n",
       "    <tr>\n",
       "      <th>...</th>\n",
       "      <td>...</td>\n",
       "      <td>...</td>\n",
       "      <td>...</td>\n",
       "      <td>...</td>\n",
       "      <td>...</td>\n",
       "      <td>...</td>\n",
       "      <td>...</td>\n",
       "    </tr>\n",
       "    <tr>\n",
       "      <th>2535</th>\n",
       "      <td>77</td>\n",
       "      <td>24</td>\n",
       "      <td>41</td>\n",
       "      <td>36.946534</td>\n",
       "      <td>61.999783</td>\n",
       "      <td>6.265900</td>\n",
       "      <td>62.815937</td>\n",
       "    </tr>\n",
       "    <tr>\n",
       "      <th>2186</th>\n",
       "      <td>107</td>\n",
       "      <td>38</td>\n",
       "      <td>29</td>\n",
       "      <td>26.650693</td>\n",
       "      <td>57.566957</td>\n",
       "      <td>6.351182</td>\n",
       "      <td>145.105065</td>\n",
       "    </tr>\n",
       "    <tr>\n",
       "      <th>857</th>\n",
       "      <td>17</td>\n",
       "      <td>74</td>\n",
       "      <td>17</td>\n",
       "      <td>26.030270</td>\n",
       "      <td>69.558631</td>\n",
       "      <td>7.393211</td>\n",
       "      <td>37.113958</td>\n",
       "    </tr>\n",
       "    <tr>\n",
       "      <th>1675</th>\n",
       "      <td>25</td>\n",
       "      <td>21</td>\n",
       "      <td>11</td>\n",
       "      <td>32.237978</td>\n",
       "      <td>90.154068</td>\n",
       "      <td>6.460045</td>\n",
       "      <td>104.705225</td>\n",
       "    </tr>\n",
       "    <tr>\n",
       "      <th>3085</th>\n",
       "      <td>133</td>\n",
       "      <td>73</td>\n",
       "      <td>178</td>\n",
       "      <td>29.312176</td>\n",
       "      <td>67.034093</td>\n",
       "      <td>6.995157</td>\n",
       "      <td>55.537935</td>\n",
       "    </tr>\n",
       "  </tbody>\n",
       "</table>\n",
       "<p>843 rows × 7 columns</p>\n",
       "</div>"
      ],
      "text/plain": [
       "        N    P    K  temperature   humidity        ph    rainfall\n",
       "3206   34   33   53    27.528578  72.186749  6.414002   81.094966\n",
       "2998  104   59  165    21.183971  73.530064  6.207726   50.388060\n",
       "2642   87  106   80    32.578839  70.982596  5.226143   70.743399\n",
       "139    76   57   18    18.980273  74.526008  6.092726   94.262494\n",
       "2649  108  119   73    33.870362  82.413168  5.413098   64.561815\n",
       "...   ...  ...  ...          ...        ...       ...         ...\n",
       "2535   77   24   41    36.946534  61.999783  6.265900   62.815937\n",
       "2186  107   38   29    26.650693  57.566957  6.351182  145.105065\n",
       "857    17   74   17    26.030270  69.558631  7.393211   37.113958\n",
       "1675   25   21   11    32.237978  90.154068  6.460045  104.705225\n",
       "3085  133   73  178    29.312176  67.034093  6.995157   55.537935\n",
       "\n",
       "[843 rows x 7 columns]"
      ]
     },
     "execution_count": 72,
     "metadata": {},
     "output_type": "execute_result"
    }
   ],
   "source": [
    "X_test"
   ]
  },
  {
   "cell_type": "code",
   "execution_count": 73,
   "metadata": {},
   "outputs": [],
   "source": [
    "new_data = {\n",
    "    'N': [50],\n",
    "    'P': [100],\n",
    "    'K': [60],\n",
    "    'temperature': [34],\n",
    "    'humidity': [70],\n",
    "    'ph': [5.5],\n",
    "    'rainfall': [100],\n",
    "}\n",
    "X = pd.DataFrame(new_data)"
   ]
  },
  {
   "attachments": {},
   "cell_type": "markdown",
   "metadata": {},
   "source": [
    "## Random Forest"
   ]
  },
  {
   "cell_type": "code",
   "execution_count": 74,
   "metadata": {},
   "outputs": [
    {
     "name": "stdout",
     "output_type": "stream",
     "text": [
      "[31]\n",
      "['sweetpotato']\n"
     ]
    }
   ],
   "source": [
    "rf = RandomForestClassifier(n_estimators=10, max_features=3, random_state=0).fit(features, target)\n",
    "rf_pred= rf.predict(X)\n",
    "\n",
    "print(rf_pred)\n",
    "original = encoder.inverse_transform(rf_pred)\n",
    "print(original)"
   ]
  },
  {
   "cell_type": "code",
   "execution_count": 75,
   "metadata": {},
   "outputs": [],
   "source": [
    "named_target = encoder.inverse_transform(target)"
   ]
  },
  {
   "cell_type": "code",
   "execution_count": 76,
   "metadata": {},
   "outputs": [
    {
     "name": "stdout",
     "output_type": "stream",
     "text": [
      "[[0.  0.1 0.  0.  0.  0.  0.  0.  0.  0.  0.  0.  0.  0.  0.  0.  0.  0.\n",
      "  0.  0.  0.2 0.  0.  0.  0.1 0.  0.1 0.  0.  0.  0.  0.4 0.  0.  0.1]]\n",
      "[(0.4, 31), (0.2, 20), (0.1, 34), (0.1, 26), (0.1, 24), (0.1, 1), (0.0, 33), (0.0, 32), (0.0, 30), (0.0, 29), (0.0, 28), (0.0, 27), (0.0, 25), (0.0, 23), (0.0, 22), (0.0, 21), (0.0, 19), (0.0, 18), (0.0, 17), (0.0, 16), (0.0, 15), (0.0, 14), (0.0, 13), (0.0, 12), (0.0, 11), (0.0, 10), (0.0, 9), (0.0, 8), (0.0, 7), (0.0, 6), (0.0, 5), (0.0, 4), (0.0, 3), (0.0, 2), (0.0, 0)]\n"
     ]
    }
   ],
   "source": [
    "rf_prob = rf.predict_proba(X)\n",
    "print(rf_prob)\n",
    "label_probabilities = []\n",
    "for i, probabilities in enumerate(rf_prob):\n",
    "    label_probabilities.append([(probabilities[j], j) for j in range(len(probabilities))])\n",
    "    label_probabilities[i].sort(reverse=True)\n",
    "\n",
    "# Print the ranking of the labels for the first observation in the test set\n",
    "label_probabilities = label_probabilities[0]\n",
    "print(label_probabilities)"
   ]
  },
  {
   "cell_type": "code",
   "execution_count": 77,
   "metadata": {},
   "outputs": [
    {
     "name": "stdout",
     "output_type": "stream",
     "text": [
      "[[0.4, 31], [0.2, 20], [0.1, 34], [0.1, 26], [0.1, 24], [0.1, 1], [0.0, 33], [0.0, 32], [0.0, 30], [0.0, 29], [0.0, 28], [0.0, 27], [0.0, 25], [0.0, 23], [0.0, 22], [0.0, 21], [0.0, 19], [0.0, 18], [0.0, 17], [0.0, 16], [0.0, 15], [0.0, 14], [0.0, 13], [0.0, 12], [0.0, 11], [0.0, 10], [0.0, 9], [0.0, 8], [0.0, 7], [0.0, 6], [0.0, 5], [0.0, 4], [0.0, 3], [0.0, 2], [0.0, 0]]\n"
     ]
    }
   ],
   "source": [
    "list_label_probabilities = [list(t) for t in label_probabilities]\n",
    "print(list_label_probabilities)"
   ]
  },
  {
   "cell_type": "code",
   "execution_count": 78,
   "metadata": {},
   "outputs": [
    {
     "data": {
      "text/plain": [
       "[[0.4, array(['sweetpotato'], dtype=object)],\n",
       " [0.2, array(['mucuna'], dtype=object)],\n",
       " [0.1, array(['yam'], dtype=object)],\n",
       " [0.1, array(['pigeonpeas'], dtype=object)],\n",
       " [0.1, array(['papaya'], dtype=object)],\n",
       " [0.1, array(['banana'], dtype=object)],\n",
       " [0.0, array(['watermelon'], dtype=object)],\n",
       " [0.0, array(['tomato'], dtype=object)],\n",
       " [0.0, array(['soybean'], dtype=object)],\n",
       " [0.0, array(['sorghum'], dtype=object)],\n",
       " [0.0, array(['rice'], dtype=object)],\n",
       " [0.0, array(['pomegranate'], dtype=object)],\n",
       " [0.0, array(['pepper'], dtype=object)],\n",
       " [0.0, array(['orange'], dtype=object)],\n",
       " [0.0, array(['muskmelon'], dtype=object)],\n",
       " [0.0, array(['mungbean'], dtype=object)],\n",
       " [0.0, array(['mothbeans'], dtype=object)],\n",
       " [0.0, array(['millet'], dtype=object)],\n",
       " [0.0, array(['mango'], dtype=object)],\n",
       " [0.0, array(['maize'], dtype=object)],\n",
       " [0.0, array(['lentil'], dtype=object)],\n",
       " [0.0, array(['kidneybeans'], dtype=object)],\n",
       " [0.0, array(['jute'], dtype=object)],\n",
       " [0.0, array(['groundnut'], dtype=object)],\n",
       " [0.0, array(['grapes'], dtype=object)],\n",
       " [0.0, array(['cucumber'], dtype=object)],\n",
       " [0.0, array(['cowpea'], dtype=object)],\n",
       " [0.0, array(['cotton'], dtype=object)],\n",
       " [0.0, array(['coffee'], dtype=object)],\n",
       " [0.0, array(['coconut'], dtype=object)],\n",
       " [0.0, array(['chickpea'], dtype=object)],\n",
       " [0.0, array(['cassava'], dtype=object)],\n",
       " [0.0, array(['blackgram'], dtype=object)],\n",
       " [0.0, array(['bean'], dtype=object)],\n",
       " [0.0, array(['apple'], dtype=object)]]"
      ]
     },
     "execution_count": 78,
     "metadata": {},
     "output_type": "execute_result"
    }
   ],
   "source": [
    "for inner_list in list_label_probabilities:\n",
    "    inner_list[1] = encoder.inverse_transform([inner_list[1]])\n",
    "list_label_probabilities"
   ]
  }
 ],
 "metadata": {
  "kernelspec": {
   "display_name": "base",
   "language": "python",
   "name": "python3"
  },
  "language_info": {
   "codemirror_mode": {
    "name": "ipython",
    "version": 3
   },
   "file_extension": ".py",
   "mimetype": "text/x-python",
   "name": "python",
   "nbconvert_exporter": "python",
   "pygments_lexer": "ipython3",
   "version": "3.10.9"
  },
  "orig_nbformat": 4
 },
 "nbformat": 4,
 "nbformat_minor": 2
}
